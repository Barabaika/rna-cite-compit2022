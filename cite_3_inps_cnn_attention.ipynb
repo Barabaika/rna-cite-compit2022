{
  "metadata": {
    "kernelspec": {
      "language": "python",
      "display_name": "Python 3",
      "name": "python3"
    },
    "language_info": {
      "name": "python",
      "version": "3.7.12",
      "mimetype": "text/x-python",
      "codemirror_mode": {
        "name": "ipython",
        "version": 3
      },
      "pygments_lexer": "ipython3",
      "nbconvert_exporter": "python",
      "file_extension": ".py"
    },
    "colab": {
      "provenance": [],
      "collapsed_sections": [],
      "toc_visible": true,
      "include_colab_link": true
    },
    "gpuClass": "standard",
    "accelerator": "GPU"
  },
  "nbformat_minor": 0,
  "nbformat": 4,
  "cells": [
    {
      "cell_type": "markdown",
      "metadata": {
        "id": "view-in-github",
        "colab_type": "text"
      },
      "source": [
        "<a href=\"https://colab.research.google.com/github/Barabaika/rna-cite-compit2022/blob/scMVP/cite_3_inps_cnn_attention.ipynb\" target=\"_parent\"><img src=\"https://colab.research.google.com/assets/colab-badge.svg\" alt=\"Open In Colab\"/></a>"
      ]
    },
    {
      "cell_type": "code",
      "source": [
        "!pip install colorama\n",
        "!pip install tensorflow-addons\n",
        "!pip install keras-tuner\n",
        "import os, gc, pickle, datetime, scipy.sparse\n",
        "import pandas as pd\n",
        "import matplotlib.pyplot as plt\n",
        "import numpy as np\n",
        "\n",
        "from colorama import Fore, Back, Style\n",
        "\n",
        "from sklearn.model_selection import KFold,GroupKFold, train_test_split\n",
        "from sklearn.preprocessing import StandardScaler, scale, MinMaxScaler\n",
        "# from sklearn.decomposition import TruncatedSVD\n",
        "\n",
        "import tensorflow as tf\n",
        "import tensorflow.keras.backend as K\n",
        "from tensorflow.keras.models import Model, load_model\n",
        "from tensorflow.keras.callbacks import ReduceLROnPlateau, LearningRateScheduler, EarlyStopping\n",
        "from tensorflow.keras.layers import Dense, Input, Concatenate, LayerNormalization, Layer, MultiHeadAttention, Reshape, Attention, Conv1D, \\\n",
        "    MaxPool1D, Dropout, BatchNormalization, Flatten, AveragePooling1D, Multiply\n",
        "\n",
        "from tensorflow_addons.layers import WeightNormalization, AdaptiveAveragePooling1D\n",
        "\n",
        "from tensorflow.keras.utils import plot_model\n",
        "import keras_tuner\n",
        "from sklearn.model_selection import StratifiedKFold\n",
        "# from sklearn.preprocessing import minmax_scale"
      ],
      "metadata": {
        "execution": {
          "iopub.status.busy": "2022-11-02T21:08:02.406551Z",
          "iopub.execute_input": "2022-11-02T21:08:02.407210Z",
          "iopub.status.idle": "2022-11-02T21:08:02.421224Z",
          "shell.execute_reply.started": "2022-11-02T21:08:02.407167Z",
          "shell.execute_reply": "2022-11-02T21:08:02.419503Z"
        },
        "trusted": true,
        "colab": {
          "base_uri": "https://localhost:8080/"
        },
        "id": "P6mvObZjOCjK",
        "outputId": "9e77712d-e1ae-48cb-f131-43d0bae21342"
      },
      "execution_count": 1,
      "outputs": [
        {
          "output_type": "stream",
          "name": "stdout",
          "text": [
            "Looking in indexes: https://pypi.org/simple, https://us-python.pkg.dev/colab-wheels/public/simple/\n",
            "Collecting colorama\n",
            "  Downloading colorama-0.4.6-py2.py3-none-any.whl (25 kB)\n",
            "Installing collected packages: colorama\n",
            "Successfully installed colorama-0.4.6\n",
            "Looking in indexes: https://pypi.org/simple, https://us-python.pkg.dev/colab-wheels/public/simple/\n",
            "Collecting tensorflow-addons\n",
            "  Downloading tensorflow_addons-0.18.0-cp37-cp37m-manylinux_2_17_x86_64.manylinux2014_x86_64.whl (1.1 MB)\n",
            "\u001b[K     |████████████████████████████████| 1.1 MB 15.4 MB/s \n",
            "\u001b[?25hRequirement already satisfied: packaging in /usr/local/lib/python3.7/dist-packages (from tensorflow-addons) (21.3)\n",
            "Requirement already satisfied: typeguard>=2.7 in /usr/local/lib/python3.7/dist-packages (from tensorflow-addons) (2.7.1)\n",
            "Requirement already satisfied: pyparsing!=3.0.5,>=2.0.2 in /usr/local/lib/python3.7/dist-packages (from packaging->tensorflow-addons) (3.0.9)\n",
            "Installing collected packages: tensorflow-addons\n",
            "Successfully installed tensorflow-addons-0.18.0\n",
            "Looking in indexes: https://pypi.org/simple, https://us-python.pkg.dev/colab-wheels/public/simple/\n",
            "Collecting keras-tuner\n",
            "  Downloading keras_tuner-1.1.3-py3-none-any.whl (135 kB)\n",
            "\u001b[K     |████████████████████████████████| 135 kB 6.9 MB/s \n",
            "\u001b[?25hRequirement already satisfied: numpy in /usr/local/lib/python3.7/dist-packages (from keras-tuner) (1.21.6)\n",
            "Requirement already satisfied: ipython in /usr/local/lib/python3.7/dist-packages (from keras-tuner) (7.9.0)\n",
            "Requirement already satisfied: requests in /usr/local/lib/python3.7/dist-packages (from keras-tuner) (2.23.0)\n",
            "Requirement already satisfied: tensorboard in /usr/local/lib/python3.7/dist-packages (from keras-tuner) (2.9.1)\n",
            "Collecting kt-legacy\n",
            "  Downloading kt_legacy-1.0.4-py3-none-any.whl (9.6 kB)\n",
            "Requirement already satisfied: packaging in /usr/local/lib/python3.7/dist-packages (from keras-tuner) (21.3)\n",
            "Requirement already satisfied: setuptools>=18.5 in /usr/local/lib/python3.7/dist-packages (from ipython->keras-tuner) (57.4.0)\n",
            "Requirement already satisfied: pygments in /usr/local/lib/python3.7/dist-packages (from ipython->keras-tuner) (2.6.1)\n",
            "Requirement already satisfied: backcall in /usr/local/lib/python3.7/dist-packages (from ipython->keras-tuner) (0.2.0)\n",
            "Requirement already satisfied: prompt-toolkit<2.1.0,>=2.0.0 in /usr/local/lib/python3.7/dist-packages (from ipython->keras-tuner) (2.0.10)\n",
            "Requirement already satisfied: pickleshare in /usr/local/lib/python3.7/dist-packages (from ipython->keras-tuner) (0.7.5)\n",
            "Collecting jedi>=0.10\n",
            "  Downloading jedi-0.18.1-py2.py3-none-any.whl (1.6 MB)\n",
            "\u001b[K     |████████████████████████████████| 1.6 MB 24.4 MB/s \n",
            "\u001b[?25hRequirement already satisfied: pexpect in /usr/local/lib/python3.7/dist-packages (from ipython->keras-tuner) (4.8.0)\n",
            "Requirement already satisfied: decorator in /usr/local/lib/python3.7/dist-packages (from ipython->keras-tuner) (4.4.2)\n",
            "Requirement already satisfied: traitlets>=4.2 in /usr/local/lib/python3.7/dist-packages (from ipython->keras-tuner) (5.1.1)\n",
            "Requirement already satisfied: parso<0.9.0,>=0.8.0 in /usr/local/lib/python3.7/dist-packages (from jedi>=0.10->ipython->keras-tuner) (0.8.3)\n",
            "Requirement already satisfied: wcwidth in /usr/local/lib/python3.7/dist-packages (from prompt-toolkit<2.1.0,>=2.0.0->ipython->keras-tuner) (0.2.5)\n",
            "Requirement already satisfied: six>=1.9.0 in /usr/local/lib/python3.7/dist-packages (from prompt-toolkit<2.1.0,>=2.0.0->ipython->keras-tuner) (1.15.0)\n",
            "Requirement already satisfied: pyparsing!=3.0.5,>=2.0.2 in /usr/local/lib/python3.7/dist-packages (from packaging->keras-tuner) (3.0.9)\n",
            "Requirement already satisfied: ptyprocess>=0.5 in /usr/local/lib/python3.7/dist-packages (from pexpect->ipython->keras-tuner) (0.7.0)\n",
            "Requirement already satisfied: chardet<4,>=3.0.2 in /usr/local/lib/python3.7/dist-packages (from requests->keras-tuner) (3.0.4)\n",
            "Requirement already satisfied: idna<3,>=2.5 in /usr/local/lib/python3.7/dist-packages (from requests->keras-tuner) (2.10)\n",
            "Requirement already satisfied: certifi>=2017.4.17 in /usr/local/lib/python3.7/dist-packages (from requests->keras-tuner) (2022.9.24)\n",
            "Requirement already satisfied: urllib3!=1.25.0,!=1.25.1,<1.26,>=1.21.1 in /usr/local/lib/python3.7/dist-packages (from requests->keras-tuner) (1.24.3)\n",
            "Requirement already satisfied: tensorboard-data-server<0.7.0,>=0.6.0 in /usr/local/lib/python3.7/dist-packages (from tensorboard->keras-tuner) (0.6.1)\n",
            "Requirement already satisfied: markdown>=2.6.8 in /usr/local/lib/python3.7/dist-packages (from tensorboard->keras-tuner) (3.4.1)\n",
            "Requirement already satisfied: absl-py>=0.4 in /usr/local/lib/python3.7/dist-packages (from tensorboard->keras-tuner) (1.3.0)\n",
            "Requirement already satisfied: wheel>=0.26 in /usr/local/lib/python3.7/dist-packages (from tensorboard->keras-tuner) (0.37.1)\n",
            "Requirement already satisfied: tensorboard-plugin-wit>=1.6.0 in /usr/local/lib/python3.7/dist-packages (from tensorboard->keras-tuner) (1.8.1)\n",
            "Requirement already satisfied: google-auth-oauthlib<0.5,>=0.4.1 in /usr/local/lib/python3.7/dist-packages (from tensorboard->keras-tuner) (0.4.6)\n",
            "Requirement already satisfied: google-auth<3,>=1.6.3 in /usr/local/lib/python3.7/dist-packages (from tensorboard->keras-tuner) (1.35.0)\n",
            "Requirement already satisfied: werkzeug>=1.0.1 in /usr/local/lib/python3.7/dist-packages (from tensorboard->keras-tuner) (1.0.1)\n",
            "Requirement already satisfied: protobuf<3.20,>=3.9.2 in /usr/local/lib/python3.7/dist-packages (from tensorboard->keras-tuner) (3.17.3)\n",
            "Requirement already satisfied: grpcio>=1.24.3 in /usr/local/lib/python3.7/dist-packages (from tensorboard->keras-tuner) (1.50.0)\n",
            "Requirement already satisfied: rsa<5,>=3.1.4 in /usr/local/lib/python3.7/dist-packages (from google-auth<3,>=1.6.3->tensorboard->keras-tuner) (4.9)\n",
            "Requirement already satisfied: cachetools<5.0,>=2.0.0 in /usr/local/lib/python3.7/dist-packages (from google-auth<3,>=1.6.3->tensorboard->keras-tuner) (4.2.4)\n",
            "Requirement already satisfied: pyasn1-modules>=0.2.1 in /usr/local/lib/python3.7/dist-packages (from google-auth<3,>=1.6.3->tensorboard->keras-tuner) (0.2.8)\n",
            "Requirement already satisfied: requests-oauthlib>=0.7.0 in /usr/local/lib/python3.7/dist-packages (from google-auth-oauthlib<0.5,>=0.4.1->tensorboard->keras-tuner) (1.3.1)\n",
            "Requirement already satisfied: importlib-metadata>=4.4 in /usr/local/lib/python3.7/dist-packages (from markdown>=2.6.8->tensorboard->keras-tuner) (4.13.0)\n",
            "Requirement already satisfied: zipp>=0.5 in /usr/local/lib/python3.7/dist-packages (from importlib-metadata>=4.4->markdown>=2.6.8->tensorboard->keras-tuner) (3.10.0)\n",
            "Requirement already satisfied: typing-extensions>=3.6.4 in /usr/local/lib/python3.7/dist-packages (from importlib-metadata>=4.4->markdown>=2.6.8->tensorboard->keras-tuner) (4.1.1)\n",
            "Requirement already satisfied: pyasn1<0.5.0,>=0.4.6 in /usr/local/lib/python3.7/dist-packages (from pyasn1-modules>=0.2.1->google-auth<3,>=1.6.3->tensorboard->keras-tuner) (0.4.8)\n",
            "Requirement already satisfied: oauthlib>=3.0.0 in /usr/local/lib/python3.7/dist-packages (from requests-oauthlib>=0.7.0->google-auth-oauthlib<0.5,>=0.4.1->tensorboard->keras-tuner) (3.2.2)\n",
            "Installing collected packages: jedi, kt-legacy, keras-tuner\n",
            "Successfully installed jedi-0.18.1 keras-tuner-1.1.3 kt-legacy-1.0.4\n"
          ]
        }
      ]
    },
    {
      "cell_type": "code",
      "source": [
        "from google.colab import drive\n",
        "drive.mount(\"/content/gdrive\", force_remount=True)\n",
        "\n",
        "!mkdir /root/.kaggle\n",
        "!cp /content/gdrive/MyDrive/kaggle/kaggle.json /root/.kaggle\n",
        "\n",
        "\n",
        "!mkdir data\n",
        "!unzip /content/gdrive/MyDrive/kaggle/metadata.csv.zip -d data\n",
        "!unzip /content/gdrive/MyDrive/kaggle/train_cite_targets.h5.zip -d data\n",
        "\n",
        "!kaggle datasets download -d geraseva/target-genes-denoised\n",
        "!kaggle datasets download -d geraseva/cite-inputs-dca-pca\n",
        "!kaggle datasets download -d grac2h5/top-100-closest-to-target-genes-with-features\n",
        "\n",
        "!unzip -q target-genes-denoised.zip -d data\n",
        "!unzip -q cite-inputs-dca-pca.zip -d data\n",
        "!unzip -q top-100-closest-to-target-genes-with-features -d data"
      ],
      "metadata": {
        "colab": {
          "base_uri": "https://localhost:8080/"
        },
        "id": "aWu6s-O2ThhB",
        "outputId": "1ba9acb9-f3c6-41cb-8bd4-b56ba59a1eb8"
      },
      "execution_count": 2,
      "outputs": [
        {
          "metadata": {
            "tags": null
          },
          "name": "stdout",
          "output_type": "stream",
          "text": [
            "Mounted at /content/gdrive\n",
            "Archive:  /content/gdrive/MyDrive/kaggle/metadata.csv.zip\n",
            "  inflating: data/metadata.csv       \n",
            "Archive:  /content/gdrive/MyDrive/kaggle/train_cite_targets.h5.zip\n",
            "  inflating: data/train_cite_targets.h5  \n",
            "Downloading target-genes-denoised.zip to /content\n",
            "100% 644M/645M [00:25<00:00, 29.7MB/s]\n",
            "100% 645M/645M [00:25<00:00, 26.6MB/s]\n",
            "Downloading cite-inputs-dca-pca.zip to /content\n",
            " 98% 104M/106M [00:04<00:00, 26.9MB/s] \n",
            "100% 106M/106M [00:05<00:00, 22.2MB/s]\n",
            "Downloading top-100-closest-to-target-genes-with-features.zip to /content\n",
            "100% 3.40G/3.40G [02:21<00:00, 37.0MB/s]\n",
            "100% 3.40G/3.40G [02:21<00:00, 25.9MB/s]\n"
          ]
        }
      ]
    },
    {
      "cell_type": "code",
      "source": [
        "DATA_DIR = \"/content/data\"\n",
        "FP_CELL_METADATA = os.path.join(DATA_DIR,\"metadata.csv\")\n",
        "FP_CITE_TRAIN_TARGETS = os.path.join(DATA_DIR,\"train_cite_targets.h5\")\n",
        "\n",
        "TUNE = False\n",
        "SUBMIT = True"
      ],
      "metadata": {
        "id": "4zrim4lrOGZr"
      },
      "execution_count": 3,
      "outputs": []
    },
    {
      "cell_type": "code",
      "source": [
        "def correlation_score(y_true, y_pred):\n",
        "    \"\"\"Scores the predictions according to the competition rules. \n",
        "    \n",
        "    It is assumed that the predictions are not constant.\n",
        "    \n",
        "    Returns the average of each sample's Pearson correlation coefficient\"\"\"\n",
        "    if type(y_true) == pd.DataFrame: y_true = y_true.values\n",
        "    if type(y_pred) == pd.DataFrame: y_pred = y_pred.values\n",
        "    corrsum = 0\n",
        "    for i in range(len(y_true)):\n",
        "        corrsum += np.corrcoef(y_true[i], y_pred[i])[1, 0]\n",
        "    return corrsum / len(y_true)\n",
        "\n",
        "def negative_correlation_loss(y_true, y_pred):\n",
        "    \"\"\"Negative correlation loss function for Keras\n",
        "    \n",
        "    Precondition:\n",
        "    y_true.mean(axis=1) == 0\n",
        "    y_true.std(axis=1) == 1\n",
        "    \n",
        "    Returns:\n",
        "    -1 = perfect positive correlation\n",
        "    1 = totally negative correlation\n",
        "    \"\"\"\n",
        "    my = K.mean(tf.convert_to_tensor(y_pred), axis=1)\n",
        "    my = tf.tile(tf.expand_dims(my, axis=1), (1, y_true.shape[1]))\n",
        "    ym = y_pred - my\n",
        "    r_num = K.sum(tf.multiply(y_true, ym), axis=1)\n",
        "    r_den = tf.sqrt(K.sum(K.square(ym), axis=1) * float(y_true.shape[-1]))\n",
        "    r = tf.reduce_mean(r_num / r_den)\n",
        "    return - r\n",
        "\n",
        "def std(x):\n",
        "    return (x - np.mean(x)) / np.std(x)"
      ],
      "metadata": {
        "execution": {
          "iopub.status.busy": "2022-11-02T20:43:03.387856Z",
          "iopub.execute_input": "2022-11-02T20:43:03.389029Z",
          "iopub.status.idle": "2022-11-02T20:43:03.400489Z",
          "shell.execute_reply.started": "2022-11-02T20:43:03.388973Z",
          "shell.execute_reply": "2022-11-02T20:43:03.399309Z"
        },
        "trusted": true,
        "id": "dZlk50IgOCjO"
      },
      "execution_count": 4,
      "outputs": []
    },
    {
      "cell_type": "code",
      "source": [
        "X_imp_genes = pd.read_csv('/content/data/citeseq_target_genes_denoised_dca.csv')\n",
        "X_imp_genes = X_imp_genes.set_index('cell_id')\n",
        "\n",
        "X_train_imp_genes = X_imp_genes.iloc[:70988, :].values\n",
        "X_test_imp_genes = X_imp_genes.iloc[70988:, :].values\n",
        "\n",
        "assert X_test_imp_genes.shape[0] == 48663\n",
        "\n",
        "meta = pd.read_csv(FP_CELL_METADATA, index_col='cell_id')\n",
        "meta = meta.reindex(X_imp_genes.iloc[:70988, :].index)\n",
        "print(meta.shape)\n",
        "\n",
        "del X_imp_genes\n",
        "gc.collect()"
      ],
      "metadata": {
        "execution": {
          "iopub.status.busy": "2022-11-02T20:43:03.666243Z",
          "iopub.execute_input": "2022-11-02T20:43:03.667061Z",
          "iopub.status.idle": "2022-11-02T20:43:12.218159Z",
          "shell.execute_reply.started": "2022-11-02T20:43:03.667018Z",
          "shell.execute_reply": "2022-11-02T20:43:12.216998Z"
        },
        "trusted": true,
        "colab": {
          "base_uri": "https://localhost:8080/"
        },
        "id": "fJklMZ25OCjO",
        "outputId": "507fb043-c618-4159-8aa6-e87b8642de28"
      },
      "execution_count": 5,
      "outputs": [
        {
          "output_type": "stream",
          "name": "stdout",
          "text": [
            "(70988, 4)\n"
          ]
        },
        {
          "output_type": "execute_result",
          "data": {
            "text/plain": [
              "38"
            ]
          },
          "metadata": {},
          "execution_count": 5
        }
      ]
    },
    {
      "cell_type": "code",
      "source": [
        "X_dim_red = pd.read_csv('/content/data/cite_inputs_dca_denoised_PCA200.csv')\n",
        "X_dim_red = X_dim_red.drop('Unnamed: 0', axis = 1)\n",
        "\n",
        "X_train_dim_red = X_dim_red.iloc[:70988, :].values\n",
        "X_test_dim_red = X_dim_red.iloc[70988:, :].values\n",
        "\n",
        "del X_dim_red\n",
        "gc.collect()"
      ],
      "metadata": {
        "colab": {
          "base_uri": "https://localhost:8080/"
        },
        "id": "mOVrdl45Z386",
        "outputId": "620d6056-87f6-4a07-d53d-90e1c6fbec36"
      },
      "execution_count": 6,
      "outputs": [
        {
          "output_type": "execute_result",
          "data": {
            "text/plain": [
              "22"
            ]
          },
          "metadata": {},
          "execution_count": 6
        }
      ]
    },
    {
      "cell_type": "code",
      "source": [
        "#loading data from Antom (top 100 closest to tagret genes with features)\n",
        "top100_folder = 'mean_by_target_denoised/'\n",
        "list_f = [\n",
        "    os.path.join(DATA_DIR, top100_folder, 'anti-human_CD63_semantic_similarity.csv'),\n",
        "    os.path.join(DATA_DIR, top100_folder, 'anti-human_CD49b_semantic_similarity.csv'),\n",
        "    os.path.join(DATA_DIR, top100_folder, 'anti-human_CD62L_semantic_similarity.csv'),\n",
        "    os.path.join(DATA_DIR, top100_folder, 'anti-human_HLA-DR_semantic_similarity.csv')\n",
        "         ]\n",
        "list_d = []\n",
        "for f in list_f:\n",
        "    d = pd.read_csv(f, index_col = 0)\n",
        "    list_d.append(d)\n",
        "\n",
        "\n",
        "X_all_conected = pd.concat(list_d, axis = 1)\n",
        "# constant_in_conected = [i.split('_')[1] for i in constant_cols if i.split('_')[1] in X_all_conected.columns]\n",
        "# X_all_conected = X_all_conected.drop(constant_in_conected, axis = 1)\n",
        "X_all_conected.shape\n",
        "\n",
        "X_train_connect = X_all_conected.iloc[:70988, :].values\n",
        "X_test_connect = X_all_conected.iloc[70988:, :].values\n",
        "\n",
        "print(X_train_connect.shape)\n",
        "print(X_test_connect.shape)"
      ],
      "metadata": {
        "execution": {
          "iopub.status.busy": "2022-11-02T20:43:12.220773Z",
          "iopub.execute_input": "2022-11-02T20:43:12.221274Z",
          "iopub.status.idle": "2022-11-02T20:43:21.453821Z",
          "shell.execute_reply.started": "2022-11-02T20:43:12.221229Z",
          "shell.execute_reply": "2022-11-02T20:43:21.452550Z"
        },
        "trusted": true,
        "colab": {
          "base_uri": "https://localhost:8080/"
        },
        "id": "j2CpL-wuOCjP",
        "outputId": "6e4e1f52-b772-4d59-f0ba-849786e4149a"
      },
      "execution_count": 7,
      "outputs": [
        {
          "output_type": "stream",
          "name": "stdout",
          "text": [
            "(70988, 220)\n",
            "(48663, 220)\n"
          ]
        }
      ]
    },
    {
      "cell_type": "code",
      "source": [
        "# std scaling:\n",
        "\n",
        "X_train_dim_red = std(X_train_dim_red) # minmax_scale\n",
        "X_test_dim_red = std(X_test_dim_red)\n",
        "\n",
        "X_train_connect = std(X_train_connect)\n",
        "X_test_connect = std(X_test_connect)\n",
        "\n",
        "X_train_imp_genes = std(X_train_imp_genes)\n",
        "X_test_imp_genes = std(X_test_imp_genes)"
      ],
      "metadata": {
        "execution": {
          "iopub.status.busy": "2022-11-02T20:43:29.408723Z",
          "iopub.execute_input": "2022-11-02T20:43:29.409169Z",
          "iopub.status.idle": "2022-11-02T20:43:30.204752Z",
          "shell.execute_reply.started": "2022-11-02T20:43:29.409120Z",
          "shell.execute_reply": "2022-11-02T20:43:30.203428Z"
        },
        "trusted": true,
        "id": "gtmsb8VLOCjW"
      },
      "execution_count": null,
      "outputs": []
    },
    {
      "cell_type": "code",
      "source": [
        "# Read Y\n",
        "Y = pd.read_hdf(FP_CITE_TRAIN_TARGETS)\n",
        "y_columns = list(Y.columns)\n",
        "Y = Y.values\n",
        "\n",
        "# Normalize the targets row-wise: This doesn't change the correlations,\n",
        "# and negative_correlation_loss depends on it\n",
        "Y = std(Y)\n",
        "\n",
        "print(f\"Y shape: {str(Y.shape):14} {Y.size*4/1024/1024/1024:2.3f} GByte\")"
      ],
      "metadata": {
        "execution": {
          "iopub.status.busy": "2022-11-02T20:43:30.206107Z",
          "iopub.execute_input": "2022-11-02T20:43:30.206430Z",
          "iopub.status.idle": "2022-11-02T20:43:31.108041Z",
          "shell.execute_reply.started": "2022-11-02T20:43:30.206401Z",
          "shell.execute_reply": "2022-11-02T20:43:31.106744Z"
        },
        "trusted": true,
        "id": "NuPY8aBwOCjb"
      },
      "execution_count": null,
      "outputs": []
    },
    {
      "cell_type": "code",
      "source": [
        "scol = 'donor&day&CT'\n",
        "meta[scol] =meta['donor'].apply(lambda x:str(x)+'_') + meta['day'].apply(lambda x:str(x)+'_') + meta['cell_type']\n",
        "meta\n",
        "\n",
        "y = meta[scol] \n",
        "skf = StratifiedKFold(n_splits=10,  shuffle=True, random_state=40)\n",
        "skf.get_n_splits(meta, meta[scol] )\n",
        "for train_index, test_index in skf.split(meta, meta[scol]):\n",
        "    print(\"TRAIN:\", len(train_index), \"TEST:\", len(test_index) ); break\n",
        "\n",
        "meta['HoldOut'] = 0 \n",
        "meta.loc[meta.index[test_index],'HoldOut']  = 1\n",
        "\n",
        "\n",
        "list_folds_indices_by_days_and_donors_with2holdouts = []\n",
        "c = 0\n",
        "for day2exclude in [2,3,4]:\n",
        "    for donor2exclude in [32606,  31800]: # We will need to predict always MALE (not female) - like on LB. (# donor 13176 - female)\n",
        "        train_index = np.where( (meta['day']  != day2exclude) & ( meta['donor']  != donor2exclude  ) )  [0]\n",
        "        mask_holdout = (meta['HoldOut']==1)\n",
        "        test_index1_like_private_lb = np.where( (meta['day']  == day2exclude) & (~mask_holdout) ) [0]\n",
        "        test_index1_like_private_lb_holdout = np.where( (meta['day']  == day2exclude) & (mask_holdout) ) [0]\n",
        "        test_index2_like_public_lb = np.where( (meta['day']  != day2exclude) &  (meta['donor']  == donor2exclude ) & (~mask_holdout) ) [0]\n",
        "        test_index2_like_public_lb_holdout = np.where( (meta['day']  != day2exclude) &  (meta['donor']  == donor2exclude ) & mask_holdout ) [0]\n",
        "        \n",
        "        list_folds_indices_by_days_and_donors_with2holdouts.append( \n",
        "            (train_index,  \n",
        "             test_index1_like_private_lb , \n",
        "             test_index2_like_public_lb, \n",
        "             test_index1_like_private_lb_holdout, \n",
        "             test_index2_like_public_lb_holdout ) \n",
        "        )\n",
        "    \n",
        "        str_fold_inf = 'Fold ' +str(c) + ': Train: excludes Day '+str(day2exclude) + ' and Donor ' + str( donor2exclude )\n",
        "        print(str_fold_inf, 'Sizes: train:',len(train_index), 'Test Like Priv'  ,len(test_index1_like_private_lb), \n",
        "              'Test Like Publ',   len(test_index2_like_public_lb),  \n",
        "              'Test Like Priv HoldOut',   len(test_index1_like_private_lb_holdout),  \n",
        "              'Test Like Publ HoldOut',   len(test_index2_like_public_lb_holdout),  \n",
        "              \n",
        "             ); c+=1\n",
        "    \n",
        "print(len(list_folds_indices_by_days_and_donors_with2holdouts))"
      ],
      "metadata": {
        "execution": {
          "iopub.status.busy": "2022-11-02T20:43:31.109488Z",
          "iopub.execute_input": "2022-11-02T20:43:31.109835Z",
          "iopub.status.idle": "2022-11-02T20:43:31.928129Z",
          "shell.execute_reply.started": "2022-11-02T20:43:31.109789Z",
          "shell.execute_reply": "2022-11-02T20:43:31.926713Z"
        },
        "trusted": true,
        "colab": {
          "base_uri": "https://localhost:8080/"
        },
        "id": "9abvIV_tOCjb",
        "outputId": "f898fa8b-221e-489b-ca7e-5799e497872d"
      },
      "execution_count": 10,
      "outputs": [
        {
          "output_type": "stream",
          "name": "stdout",
          "text": [
            "TRAIN: 63889 TEST: 7099\n",
            "Fold 0: Train: excludes Day 2 and Donor 32606 Sizes: train: 32536 Test Like Priv 19748 Test Like Publ 14859 Test Like Priv HoldOut 2194 Test Like Publ HoldOut 1651\n",
            "Fold 1: Train: excludes Day 2 and Donor 31800 Sizes: train: 32638 Test Like Priv 19748 Test Like Publ 14767 Test Like Priv HoldOut 2194 Test Like Publ HoldOut 1641\n",
            "Fold 2: Train: excludes Day 3 and Donor 32606 Sizes: train: 33100 Test Like Priv 18811 Test Like Publ 15288 Test Like Priv HoldOut 2090 Test Like Publ HoldOut 1699\n",
            "Fold 3: Train: excludes Day 3 and Donor 31800 Sizes: train: 31543 Test Like Priv 18811 Test Like Publ 16690 Test Like Priv HoldOut 2090 Test Like Publ HoldOut 1854\n",
            "Fold 4: Train: excludes Day 4 and Donor 32606 Sizes: train: 28368 Test Like Priv 25330 Test Like Publ 13027 Test Like Priv HoldOut 2815 Test Like Publ HoldOut 1448\n",
            "Fold 5: Train: excludes Day 4 and Donor 31800 Sizes: train: 28189 Test Like Priv 25330 Test Like Publ 13189 Test Like Priv HoldOut 2815 Test Like Publ HoldOut 1465\n",
            "6\n"
          ]
        },
        {
          "output_type": "stream",
          "name": "stderr",
          "text": [
            "/usr/local/lib/python3.7/dist-packages/sklearn/model_selection/_split.py:680: UserWarning: The least populated class in y has only 2 members, which is less than n_splits=10.\n",
            "  UserWarning,\n"
          ]
        }
      ]
    },
    {
      "cell_type": "code",
      "source": [
        "def get_fold(fold_number, X, Y, fold_map):\n",
        "    '''\n",
        "    fold_map\n",
        "    X: sparce matrix\n",
        "    '''\n",
        "    \n",
        "    X_train = X[fold_map[int(fold_number)][0]]\n",
        "    \n",
        "    X_test_priv = X[fold_map[int(fold_number)][1]]\n",
        "    X_test_publ = X[fold_map[int(fold_number)][2]]\n",
        "    \n",
        "    X_test_priv_holdout = X[fold_map[int(fold_number)][3]]\n",
        "    X_test_publ_holdout = X[fold_map[int(fold_number)][4]]\n",
        "    \n",
        "    Y_train = Y[fold_map[int(fold_number)][0]]\n",
        "    \n",
        "    Y_test_priv = Y[fold_map[int(fold_number)][1]]\n",
        "    Y_test_publ = Y[fold_map[int(fold_number)][2]]\n",
        "    \n",
        "    Y_test_priv_holdout = Y[fold_map[int(fold_number)][3]]\n",
        "    Y_test_publ_holdout = Y[fold_map[int(fold_number)][4]]\n",
        "    \n",
        "    return X_train, X_test_priv, X_test_publ, X_test_priv_holdout, X_test_publ_holdout, Y_train, Y_test_priv, Y_test_publ, Y_test_priv_holdout, Y_test_publ_holdout"
      ],
      "metadata": {
        "execution": {
          "iopub.status.busy": "2022-11-02T20:43:31.930017Z",
          "iopub.execute_input": "2022-11-02T20:43:31.930484Z",
          "iopub.status.idle": "2022-11-02T20:43:31.942917Z",
          "shell.execute_reply.started": "2022-11-02T20:43:31.930434Z",
          "shell.execute_reply": "2022-11-02T20:43:31.941677Z"
        },
        "trusted": true,
        "id": "MG4YqGgfOCjd"
      },
      "execution_count": null,
      "outputs": []
    },
    {
      "cell_type": "code",
      "source": [
        "LR_START = 0.01\n",
        "BATCH_SIZE = 256\n",
        "def my_model(hp, n_inputs_imp_genes = 108, n_inputs_dim_red = 128, n_inputs_connect = 210):    \n",
        "    \"\"\"Sequential neural network\n",
        "    \n",
        "    Returns a compiled instance of tensorflow.keras.models.Model.\n",
        "    \"\"\"\n",
        "    activation_first = hp.Choice('activation_first', [\"swish\",'celu', 'gelu'])\n",
        "    activation = hp.Choice('activation_other', [\"swish\",'celu', 'gelu'])\n",
        "\n",
        "#     reg1 = hp.Float(\"reg1\", min_value=1e-8, max_value=1e-4, sampling=\"log\")\n",
        "#     reg2 = hp.Float(\"reg2\", min_value=1e-10, max_value=1e-5, sampling=\"log\")\n",
        "    \n",
        "    important_genes_input = Input(shape=(n_inputs_imp_genes, ), name=\"important_genes\")\n",
        "    dim_reduced_genes_input = Input(shape=(n_inputs_dim_red, ), name = \"dim_reduced_genes\")\n",
        "    connect_genes_input = Input(shape=(n_inputs_connect, ), name = \"connect_genes\")\n",
        "    \n",
        "    x_dict = {'important_genes':important_genes_input, \n",
        "          'dim_reduced_genes':dim_reduced_genes_input, \n",
        "          'connect_genes':connect_genes_input}\n",
        "    # x = Concatenate()([important_genes_input, dim_reduced_genes_input, connect_genes_input])\n",
        "    \n",
        "    # hidden_size = hp.Choice('hidden_size', [2048, 4096], default = 4096)\n",
        "    first_dence = hp.Choice('first_dence', [128, 256], default = 128)\n",
        "    second_dence =hp.Choice('second_dence', [128, 256, 512, 1024], default = 256)\n",
        "    num_targets = Y.shape[1]\n",
        "    \n",
        "    for key in x_dict.keys():\n",
        "      x_dict[key] = Dropout(0.1)(x_dict[key])\n",
        "      x_dict[key] = WeightNormalization(\n",
        "          Dense(first_dence, activation = activation_first),\n",
        "          data_init=False\n",
        "      )(x_dict[key])\n",
        "      tmp_mask = x_dict[key]\n",
        "      tmp_mask = Reshape((tmp_mask.shape[1], 1))(tmp_mask)\n",
        "\n",
        "      x_dict[key] = LayerNormalization()(x_dict[key])\n",
        "      x_dict[key] = BatchNormalization()(x_dict[key])\n",
        "\n",
        "      x_dict[key] = Reshape((x_dict[key].shape[1], 1))(x_dict[key])\n",
        "      x_dict[key] = Attention(use_scale = True)([x_dict[key], tmp_mask, x_dict[key]])\n",
        "\n",
        "      x_dict[key] = Reshape((x_dict[key].shape[1], ))(x_dict[key])\n",
        "      x_dict[key] = Dropout(0.1)(x_dict[key])\n",
        "      x_dict[key] = WeightNormalization(\n",
        "          Dense(first_dence, activation = activation),\n",
        "          data_init=False\n",
        "      )(x_dict[key])\n",
        "      \n",
        "    x = Concatenate()(list(x_dict.values()))\n",
        "    x = Dropout(0.1)(x)\n",
        "    x = BatchNormalization(axis=1)(x)\n",
        "    x = WeightNormalization(\n",
        "        Dense(second_dence, activation = activation),\n",
        "        data_init=False\n",
        "    )(x)\n",
        "\n",
        "    x = BatchNormalization(axis=1)(x)\n",
        "    x = Dropout(0.2)(x)\n",
        "    x = WeightNormalization(\n",
        "        Dense(num_targets, \n",
        "#               activation = activation_first\n",
        "             ),\n",
        "        data_init=False\n",
        "    )(x)\n",
        "     \n",
        "    regressor = Model(\n",
        "        inputs= [important_genes_input, dim_reduced_genes_input, connect_genes_input], \n",
        "        outputs = x\n",
        "    )\n",
        "    regressor.compile(optimizer=tf.keras.optimizers.Adam(learning_rate=LR_START),\n",
        "                      metrics=[negative_correlation_loss],\n",
        "                      loss=negative_correlation_loss\n",
        "                     )\n",
        "    \n",
        "    return regressor\n",
        "display(plot_model(my_model(keras_tuner.HyperParameters()), show_layer_names=True, show_shapes=True, dpi=72))"
      ],
      "metadata": {
        "execution": {
          "iopub.status.busy": "2022-11-02T21:08:09.766575Z",
          "iopub.execute_input": "2022-11-02T21:08:09.767055Z",
          "iopub.status.idle": "2022-11-02T21:08:10.626623Z",
          "shell.execute_reply.started": "2022-11-02T21:08:09.767011Z",
          "shell.execute_reply": "2022-11-02T21:08:10.624748Z"
        },
        "trusted": true,
        "id": "5zsxW0wiOCje"
      },
      "execution_count": null,
      "outputs": []
    },
    {
      "cell_type": "code",
      "source": [
        "\n",
        "best_hp = keras_tuner.HyperParameters()\n",
        "best_hp.values = {\n",
        "    # 'hidden_size': 4096, \n",
        "    # 'flatten_to_channels': 256,\n",
        "    'first_dence':256,\n",
        "    'second_dence':256,\n",
        "    'activation_first': 'gelu',\n",
        "    'activation': 'swift',\n",
        "    # 'dense_after_conv':256, \n",
        "    # 'n_heads1': 2,\n",
        "    # 'n_heads2': 2,\n",
        "    # 'n_heads3': 2,\n",
        "    # 'n_heads4': 2,\n",
        "}"
      ],
      "metadata": {
        "execution": {
          "iopub.status.busy": "2022-11-02T21:15:46.674474Z",
          "iopub.execute_input": "2022-11-02T21:15:46.674949Z",
          "iopub.status.idle": "2022-11-02T21:15:46.681623Z",
          "shell.execute_reply.started": "2022-11-02T21:15:46.674909Z",
          "shell.execute_reply": "2022-11-02T21:15:46.680368Z"
        },
        "trusted": true,
        "id": "r0yDo-sKOCjf"
      },
      "execution_count": 13,
      "outputs": []
    },
    {
      "cell_type": "code",
      "source": [
        "SUBMIT = True\n",
        "\n",
        "# results\n",
        "df_fold_score_stat_publ = pd.DataFrame();df_fold_score_stat_publ.index.name = 'dim_red_file'\n",
        "df_fold_score_stat_priv = pd.DataFrame();df_fold_score_stat_priv.index.name = 'dim_red_file'\n",
        "\n",
        "\n",
        "# Cross-validation\n",
        "VERBOSE = 2 # set to 2 for more output\n",
        "EPOCHS = 300\n",
        "\n",
        "cv_idxs = list_folds_indices_by_days_and_donors_with2holdouts\n",
        "\n",
        "np.random.seed(1)\n",
        "tf.random.set_seed(1)\n",
        "\n",
        "N_FOLDS = 2\n",
        "\n",
        "core_list_train = []\n",
        "score_list_priv = []\n",
        "score_list_publ = []\n",
        "va_pred_publ = []\n",
        "va_pred_priv = []\n",
        "\n",
        "X_file = '128tSVD+108important_raw_genes+210_connected_genes'\n",
        "\n",
        "\n",
        "for fold in range(2): # N_FOLDS\n",
        "\n",
        "    start_time = datetime.datetime.now()\n",
        "    model = None\n",
        "    gc.collect()\n",
        "\n",
        "    X_tr_imp_genes, _, _, X_test_priv_imp_genes, X_test_publ_imp_genes, \\\n",
        "    Y_train, _, _, Y_test_priv_holdout, Y_test_publ_holdout = get_fold(fold, X_train_imp_genes, Y, cv_idxs)\n",
        "    \n",
        "    X_tr_dim_red, _, _, X_test_priv_dim_red, X_test_publ_dim_red, \\\n",
        "    Y_train, _, _, Y_test_priv_holdout, Y_test_publ_holdout = get_fold(fold, X_train_dim_red, Y, cv_idxs)\n",
        "    \n",
        "    X_tr_connect, _, _, X_test_priv_connect, X_test_publ_connect, \\\n",
        "    Y_train, _, _, Y_test_priv_holdout, Y_test_publ_holdout = get_fold(fold, X_train_connect, Y, cv_idxs)\n",
        "\n",
        "    \n",
        "    X_tr_dict = {'important_genes':X_tr_imp_genes, 'dim_reduced_genes':X_tr_dim_red, 'connect_genes':X_tr_connect}\n",
        "    X_test_private_dict = {'important_genes':X_test_priv_imp_genes, 'dim_reduced_genes':X_test_priv_dim_red, 'connect_genes':X_test_priv_connect}\n",
        "    X_test_publ_dict = {'important_genes':X_test_publ_imp_genes, 'dim_reduced_genes':X_test_publ_dim_red, 'connect_genes':X_test_publ_connect}\n",
        "    \n",
        "\n",
        "    lr = ReduceLROnPlateau(monitor=\"val_loss\", factor=0.5, \n",
        "                           patience=4, verbose=VERBOSE)\n",
        "    es = EarlyStopping(monitor=\"val_loss\",\n",
        "                       patience=12, \n",
        "                       verbose=0,\n",
        "                       mode=\"min\", \n",
        "                       restore_best_weights=True)\n",
        "    callbacks = [lr, es, tf.keras.callbacks.TerminateOnNaN()]\n",
        "    \n",
        "    model = my_model(best_hp, n_inputs_imp_genes = X_tr_imp_genes.shape[1], n_inputs_dim_red= X_tr_dim_red.shape[1], n_inputs_connect= X_tr_connect.shape[1])\n",
        "    \n",
        "    history = model.fit(X_tr_dict, \n",
        "                         Y_train,\n",
        "                         epochs = EPOCHS,\n",
        "                         validation_data = (X_test_publ_dict, Y_test_publ_holdout),\n",
        "                        verbose=VERBOSE,\n",
        "                        batch_size=BATCH_SIZE,\n",
        "                        shuffle=True,\n",
        "                        callbacks=callbacks)\n",
        "    if SUBMIT:\n",
        "        model.save(f\"/kaggle/temp/model_CNN_{fold}\")\n",
        "    history = history.history\n",
        "    callbacks, lr = None, None\n",
        "   \n",
        "    \n",
        "    # Print scores on trian to find if the model is overfitting\n",
        "    y_tr_pred = model.predict(X_tr_dict, batch_size= len(X_tr_imp_genes)//100)\n",
        "    corrscore = correlation_score(Y_train, y_tr_pred)\n",
        "    core_list_train.append(corrscore)\n",
        "\n",
        "    print(f\"Fold {fold}: stopped after {es.stopped_epoch:3} epochs\")\n",
        "    print(f\"   corr TRAIN=  {corrscore:.5f}\")\n",
        "\n",
        "    # We validate the model on PUBLIC\n",
        "    y_va_pred = model.predict(X_test_publ_dict, batch_size=len(X_test_publ_imp_genes)//100)\n",
        "    va_pred_publ.append(y_va_pred)\n",
        "    corrscore = correlation_score(Y_test_publ_holdout, y_va_pred)\n",
        "\n",
        "    print(f\"   corr PUBLIC=  {corrscore:.5f}\")\n",
        "    score_list_publ.append(corrscore)\n",
        "    df_fold_score_stat_publ.loc[X_file, f'FOLD_{str(fold)}'] = corrscore\n",
        "\n",
        "    # We validate the model on PRIVATE\n",
        "    y_va_pred = model.predict(X_test_private_dict, batch_size=len(X_test_priv_imp_genes)//100)\n",
        "    va_pred_priv.append(y_va_pred)\n",
        "    corrscore = correlation_score(Y_test_priv_holdout, y_va_pred)\n",
        "\n",
        "    print(f\"   corr PRIVATE=  {corrscore:.5f}\")\n",
        "    del es, Y_test_priv_holdout\n",
        "    score_list_priv.append(corrscore)\n",
        "    df_fold_score_stat_priv.loc[X_file, f'FOLD_{str(fold)}'] = corrscore\n",
        "    \n",
        "    pd.DataFrame(history).plot()\n",
        "\n",
        "\n",
        "# Show overall score\n",
        "print(f\"{Fore.GREEN}{Style.BRIGHT}Average  corr PUBLIC = {np.array(score_list_publ).mean():.5f}{Style.RESET_ALL}\")\n",
        "print(f\"{Fore.GREEN}{Style.BRIGHT}Average  corr PRIVATE= {np.array(score_list_priv).mean():.5f}{Style.RESET_ALL}\")\n",
        "\n",
        "df_fold_score_stat_priv.loc[X_file, 'Average'] = np.array(score_list_priv).mean()\n",
        "df_fold_score_stat_publ.loc[X_file, 'Average'] = np.array(score_list_publ).mean()\n",
        "\n",
        "df_fold_score_stat_priv.to_csv('Fold_PRIVAT_scores_per_dim_reduction_table.csv')\n",
        "df_fold_score_stat_publ.to_csv('Fold_PUBLIC_scores_per_dim_reduction_table.csv')\n"
      ],
      "metadata": {
        "execution": {
          "iopub.status.busy": "2022-11-02T21:15:47.621948Z",
          "iopub.execute_input": "2022-11-02T21:15:47.623105Z"
        },
        "trusted": true,
        "colab": {
          "base_uri": "https://localhost:8080/",
          "height": 1000
        },
        "id": "VOZHG1iPOCjf",
        "outputId": "4f686074-a896-4814-c9cb-78c4405ff719"
      },
      "execution_count": 14,
      "outputs": [
        {
          "metadata": {
            "tags": null
          },
          "name": "stdout",
          "output_type": "stream",
          "text": [
            "Epoch 1/300\n",
            "128/128 - 14s - loss: -8.1444e-01 - negative_correlation_loss: -8.1427e-01 - val_loss: -7.4777e-01 - val_negative_correlation_loss: -7.4692e-01 - lr: 0.0100 - 14s/epoch - 108ms/step\n",
            "Epoch 2/300\n",
            "128/128 - 4s - loss: -8.6704e-01 - negative_correlation_loss: -8.6727e-01 - val_loss: -7.9175e-01 - val_negative_correlation_loss: -7.9035e-01 - lr: 0.0100 - 4s/epoch - 33ms/step\n",
            "Epoch 3/300\n",
            "128/128 - 4s - loss: -8.7088e-01 - negative_correlation_loss: -8.7082e-01 - val_loss: -7.9417e-01 - val_negative_correlation_loss: -7.9267e-01 - lr: 0.0100 - 4s/epoch - 33ms/step\n",
            "Epoch 4/300\n",
            "128/128 - 4s - loss: -8.7246e-01 - negative_correlation_loss: -8.7309e-01 - val_loss: -7.9528e-01 - val_negative_correlation_loss: -7.9373e-01 - lr: 0.0100 - 4s/epoch - 33ms/step\n",
            "Epoch 5/300\n",
            "128/128 - 4s - loss: -8.7350e-01 - negative_correlation_loss: -8.7359e-01 - val_loss: -7.9565e-01 - val_negative_correlation_loss: -7.9414e-01 - lr: 0.0100 - 4s/epoch - 33ms/step\n",
            "Epoch 6/300\n",
            "128/128 - 4s - loss: -8.7263e-01 - negative_correlation_loss: -8.7244e-01 - val_loss: -7.9718e-01 - val_negative_correlation_loss: -7.9564e-01 - lr: 0.0100 - 4s/epoch - 33ms/step\n",
            "Epoch 7/300\n",
            "128/128 - 4s - loss: -8.7438e-01 - negative_correlation_loss: -8.7420e-01 - val_loss: -7.9852e-01 - val_negative_correlation_loss: -7.9691e-01 - lr: 0.0100 - 4s/epoch - 33ms/step\n",
            "Epoch 8/300\n",
            "128/128 - 4s - loss: -8.7517e-01 - negative_correlation_loss: -8.7511e-01 - val_loss: -7.9569e-01 - val_negative_correlation_loss: -7.9394e-01 - lr: 0.0100 - 4s/epoch - 33ms/step\n",
            "Epoch 9/300\n",
            "128/128 - 5s - loss: -8.7558e-01 - negative_correlation_loss: -8.7573e-01 - val_loss: -7.9829e-01 - val_negative_correlation_loss: -7.9652e-01 - lr: 0.0100 - 5s/epoch - 38ms/step\n",
            "Epoch 10/300\n",
            "128/128 - 5s - loss: -8.7615e-01 - negative_correlation_loss: -8.7625e-01 - val_loss: -7.9570e-01 - val_negative_correlation_loss: -7.9407e-01 - lr: 0.0100 - 5s/epoch - 36ms/step\n",
            "Epoch 11/300\n",
            "\n",
            "Epoch 11: ReduceLROnPlateau reducing learning rate to 0.004999999888241291.\n",
            "128/128 - 4s - loss: -8.7635e-01 - negative_correlation_loss: -8.7618e-01 - val_loss: -7.9771e-01 - val_negative_correlation_loss: -7.9615e-01 - lr: 0.0100 - 4s/epoch - 32ms/step\n",
            "Epoch 12/300\n",
            "128/128 - 4s - loss: -8.7754e-01 - negative_correlation_loss: -8.7818e-01 - val_loss: -7.9812e-01 - val_negative_correlation_loss: -7.9649e-01 - lr: 0.0050 - 4s/epoch - 32ms/step\n",
            "Epoch 13/300\n",
            "128/128 - 4s - loss: -8.7792e-01 - negative_correlation_loss: -8.7744e-01 - val_loss: -7.9629e-01 - val_negative_correlation_loss: -7.9466e-01 - lr: 0.0050 - 4s/epoch - 31ms/step\n",
            "Epoch 14/300\n",
            "128/128 - 4s - loss: -8.7803e-01 - negative_correlation_loss: -8.7785e-01 - val_loss: -7.9936e-01 - val_negative_correlation_loss: -7.9785e-01 - lr: 0.0050 - 4s/epoch - 32ms/step\n",
            "Epoch 15/300\n",
            "128/128 - 4s - loss: -8.7828e-01 - negative_correlation_loss: -8.7786e-01 - val_loss: -7.9786e-01 - val_negative_correlation_loss: -7.9626e-01 - lr: 0.0050 - 4s/epoch - 33ms/step\n",
            "Epoch 16/300\n",
            "128/128 - 4s - loss: -8.7826e-01 - negative_correlation_loss: -8.7833e-01 - val_loss: -7.9856e-01 - val_negative_correlation_loss: -7.9690e-01 - lr: 0.0050 - 4s/epoch - 33ms/step\n",
            "Epoch 17/300\n",
            "128/128 - 4s - loss: -8.7843e-01 - negative_correlation_loss: -8.7888e-01 - val_loss: -7.9774e-01 - val_negative_correlation_loss: -7.9609e-01 - lr: 0.0050 - 4s/epoch - 32ms/step\n",
            "Epoch 18/300\n",
            "\n",
            "Epoch 18: ReduceLROnPlateau reducing learning rate to 0.0024999999441206455.\n",
            "128/128 - 4s - loss: -8.7842e-01 - negative_correlation_loss: -8.7871e-01 - val_loss: -7.9889e-01 - val_negative_correlation_loss: -7.9736e-01 - lr: 0.0050 - 4s/epoch - 32ms/step\n",
            "Epoch 19/300\n",
            "128/128 - 4s - loss: -8.7928e-01 - negative_correlation_loss: -8.7917e-01 - val_loss: -7.9903e-01 - val_negative_correlation_loss: -7.9740e-01 - lr: 0.0025 - 4s/epoch - 32ms/step\n",
            "Epoch 20/300\n",
            "128/128 - 4s - loss: -8.7962e-01 - negative_correlation_loss: -8.7928e-01 - val_loss: -7.9763e-01 - val_negative_correlation_loss: -7.9598e-01 - lr: 0.0025 - 4s/epoch - 32ms/step\n",
            "Epoch 21/300\n",
            "128/128 - 4s - loss: -8.7954e-01 - negative_correlation_loss: -8.7932e-01 - val_loss: -7.9853e-01 - val_negative_correlation_loss: -7.9687e-01 - lr: 0.0025 - 4s/epoch - 33ms/step\n",
            "Epoch 22/300\n",
            "\n",
            "Epoch 22: ReduceLROnPlateau reducing learning rate to 0.0012499999720603228.\n",
            "128/128 - 4s - loss: -8.7973e-01 - negative_correlation_loss: -8.7971e-01 - val_loss: -7.9856e-01 - val_negative_correlation_loss: -7.9682e-01 - lr: 0.0025 - 4s/epoch - 33ms/step\n",
            "Epoch 23/300\n",
            "128/128 - 4s - loss: -8.8016e-01 - negative_correlation_loss: -8.7961e-01 - val_loss: -7.9933e-01 - val_negative_correlation_loss: -7.9768e-01 - lr: 0.0012 - 4s/epoch - 33ms/step\n",
            "Epoch 24/300\n",
            "128/128 - 4s - loss: -8.8034e-01 - negative_correlation_loss: -8.7995e-01 - val_loss: -7.9911e-01 - val_negative_correlation_loss: -7.9751e-01 - lr: 0.0012 - 4s/epoch - 33ms/step\n",
            "Epoch 25/300\n",
            "128/128 - 4s - loss: -8.8045e-01 - negative_correlation_loss: -8.8029e-01 - val_loss: -7.9884e-01 - val_negative_correlation_loss: -7.9718e-01 - lr: 0.0012 - 4s/epoch - 33ms/step\n",
            "Epoch 26/300\n",
            "\n",
            "Epoch 26: ReduceLROnPlateau reducing learning rate to 0.0006249999860301614.\n",
            "128/128 - 4s - loss: -8.8043e-01 - negative_correlation_loss: -8.8086e-01 - val_loss: -7.9919e-01 - val_negative_correlation_loss: -7.9756e-01 - lr: 0.0012 - 4s/epoch - 33ms/step\n"
          ]
        },
        {
          "metadata": {
            "tags": null
          },
          "name": "stderr",
          "output_type": "stream",
          "text": [
            "WARNING:absl:Found untraced functions such as dense_8_layer_call_fn, dense_8_layer_call_and_return_conditional_losses, dense_10_layer_call_fn, dense_10_layer_call_and_return_conditional_losses, dense_12_layer_call_fn while saving (showing 5 of 16). These functions will not be directly callable after loading.\n"
          ]
        },
        {
          "metadata": {
            "tags": null
          },
          "name": "stdout",
          "output_type": "stream",
          "text": [
            "101/101 [==============================] - 2s 14ms/step\n",
            "Fold 0: stopped after  25 epochs\n",
            "   corr TRAIN=  0.89447\n",
            "104/104 [==============================] - 1s 6ms/step\n",
            "   corr PUBLIC=  0.89313\n",
            "105/105 [==============================] - 1s 5ms/step\n",
            "   corr PRIVATE=  0.88185\n",
            "Epoch 1/300\n",
            "128/128 - 10s - loss: -8.1630e-01 - negative_correlation_loss: -8.1648e-01 - val_loss: -7.7271e-01 - val_negative_correlation_loss: -7.6710e-01 - lr: 0.0100 - 10s/epoch - 76ms/step\n",
            "Epoch 2/300\n",
            "128/128 - 4s - loss: -8.7038e-01 - negative_correlation_loss: -8.7038e-01 - val_loss: -7.8839e-01 - val_negative_correlation_loss: -7.8261e-01 - lr: 0.0100 - 4s/epoch - 33ms/step\n",
            "Epoch 3/300\n",
            "128/128 - 4s - loss: -8.7451e-01 - negative_correlation_loss: -8.7449e-01 - val_loss: -7.9281e-01 - val_negative_correlation_loss: -7.8709e-01 - lr: 0.0100 - 4s/epoch - 33ms/step\n",
            "Epoch 4/300\n",
            "128/128 - 4s - loss: -8.7566e-01 - negative_correlation_loss: -8.7557e-01 - val_loss: -7.9389e-01 - val_negative_correlation_loss: -7.8823e-01 - lr: 0.0100 - 4s/epoch - 33ms/step\n",
            "Epoch 5/300\n",
            "128/128 - 4s - loss: -8.7674e-01 - negative_correlation_loss: -8.7669e-01 - val_loss: -7.9139e-01 - val_negative_correlation_loss: -7.8590e-01 - lr: 0.0100 - 4s/epoch - 33ms/step\n",
            "Epoch 6/300\n",
            "128/128 - 4s - loss: -8.7762e-01 - negative_correlation_loss: -8.7765e-01 - val_loss: -7.9564e-01 - val_negative_correlation_loss: -7.8990e-01 - lr: 0.0100 - 4s/epoch - 33ms/step\n",
            "Epoch 7/300\n",
            "128/128 - 4s - loss: -8.7794e-01 - negative_correlation_loss: -8.7803e-01 - val_loss: -7.9517e-01 - val_negative_correlation_loss: -7.8951e-01 - lr: 0.0100 - 4s/epoch - 33ms/step\n",
            "Epoch 8/300\n",
            "128/128 - 4s - loss: -8.7842e-01 - negative_correlation_loss: -8.7851e-01 - val_loss: -7.9463e-01 - val_negative_correlation_loss: -7.8905e-01 - lr: 0.0100 - 4s/epoch - 33ms/step\n",
            "Epoch 9/300\n",
            "128/128 - 4s - loss: -8.7899e-01 - negative_correlation_loss: -8.7895e-01 - val_loss: -7.9350e-01 - val_negative_correlation_loss: -7.8789e-01 - lr: 0.0100 - 4s/epoch - 32ms/step\n",
            "Epoch 10/300\n",
            "\n",
            "Epoch 10: ReduceLROnPlateau reducing learning rate to 0.004999999888241291.\n",
            "128/128 - 4s - loss: -8.7927e-01 - negative_correlation_loss: -8.7938e-01 - val_loss: -7.9544e-01 - val_negative_correlation_loss: -7.8933e-01 - lr: 0.0100 - 4s/epoch - 32ms/step\n",
            "Epoch 11/300\n",
            "128/128 - 4s - loss: -8.8027e-01 - negative_correlation_loss: -8.8028e-01 - val_loss: -7.9715e-01 - val_negative_correlation_loss: -7.9144e-01 - lr: 0.0050 - 4s/epoch - 32ms/step\n",
            "Epoch 12/300\n",
            "128/128 - 4s - loss: -8.8060e-01 - negative_correlation_loss: -8.8061e-01 - val_loss: -7.9677e-01 - val_negative_correlation_loss: -7.9117e-01 - lr: 0.0050 - 4s/epoch - 32ms/step\n",
            "Epoch 13/300\n",
            "128/128 - 4s - loss: -8.8069e-01 - negative_correlation_loss: -8.8050e-01 - val_loss: -7.9676e-01 - val_negative_correlation_loss: -7.9109e-01 - lr: 0.0050 - 4s/epoch - 33ms/step\n",
            "Epoch 14/300\n",
            "128/128 - 4s - loss: -8.8101e-01 - negative_correlation_loss: -8.8081e-01 - val_loss: -7.9679e-01 - val_negative_correlation_loss: -7.9118e-01 - lr: 0.0050 - 4s/epoch - 32ms/step\n",
            "Epoch 15/300\n",
            "128/128 - 4s - loss: -8.8109e-01 - negative_correlation_loss: -8.8108e-01 - val_loss: -7.9735e-01 - val_negative_correlation_loss: -7.9169e-01 - lr: 0.0050 - 4s/epoch - 33ms/step\n",
            "Epoch 16/300\n",
            "128/128 - 4s - loss: -8.8118e-01 - negative_correlation_loss: -8.8115e-01 - val_loss: -7.9706e-01 - val_negative_correlation_loss: -7.9148e-01 - lr: 0.0050 - 4s/epoch - 33ms/step\n",
            "Epoch 17/300\n",
            "128/128 - 4s - loss: -8.8118e-01 - negative_correlation_loss: -8.8134e-01 - val_loss: -7.9617e-01 - val_negative_correlation_loss: -7.9065e-01 - lr: 0.0050 - 4s/epoch - 33ms/step\n",
            "Epoch 18/300\n",
            "128/128 - 4s - loss: -8.8131e-01 - negative_correlation_loss: -8.8120e-01 - val_loss: -7.9549e-01 - val_negative_correlation_loss: -7.9000e-01 - lr: 0.0050 - 4s/epoch - 32ms/step\n",
            "Epoch 19/300\n",
            "\n",
            "Epoch 19: ReduceLROnPlateau reducing learning rate to 0.0024999999441206455.\n",
            "128/128 - 4s - loss: -8.8150e-01 - negative_correlation_loss: -8.8145e-01 - val_loss: -7.9611e-01 - val_negative_correlation_loss: -7.9052e-01 - lr: 0.0050 - 4s/epoch - 32ms/step\n",
            "Epoch 20/300\n",
            "128/128 - 4s - loss: -8.8229e-01 - negative_correlation_loss: -8.8225e-01 - val_loss: -7.9756e-01 - val_negative_correlation_loss: -7.9202e-01 - lr: 0.0025 - 4s/epoch - 33ms/step\n",
            "Epoch 21/300\n",
            "128/128 - 4s - loss: -8.8246e-01 - negative_correlation_loss: -8.8251e-01 - val_loss: -7.9703e-01 - val_negative_correlation_loss: -7.9147e-01 - lr: 0.0025 - 4s/epoch - 33ms/step\n",
            "Epoch 22/300\n",
            "128/128 - 4s - loss: -8.8250e-01 - negative_correlation_loss: -8.8240e-01 - val_loss: -7.9771e-01 - val_negative_correlation_loss: -7.9213e-01 - lr: 0.0025 - 4s/epoch - 33ms/step\n",
            "Epoch 23/300\n",
            "128/128 - 4s - loss: -8.8276e-01 - negative_correlation_loss: -8.8270e-01 - val_loss: -7.9754e-01 - val_negative_correlation_loss: -7.9199e-01 - lr: 0.0025 - 4s/epoch - 33ms/step\n",
            "Epoch 24/300\n",
            "128/128 - 4s - loss: -8.8280e-01 - negative_correlation_loss: -8.8260e-01 - val_loss: -7.9723e-01 - val_negative_correlation_loss: -7.9175e-01 - lr: 0.0025 - 4s/epoch - 33ms/step\n",
            "Epoch 25/300\n",
            "128/128 - 4s - loss: -8.8286e-01 - negative_correlation_loss: -8.8286e-01 - val_loss: -7.9580e-01 - val_negative_correlation_loss: -7.9038e-01 - lr: 0.0025 - 4s/epoch - 33ms/step\n",
            "Epoch 26/300\n",
            "\n",
            "Epoch 26: ReduceLROnPlateau reducing learning rate to 0.0012499999720603228.\n",
            "128/128 - 4s - loss: -8.8280e-01 - negative_correlation_loss: -8.8264e-01 - val_loss: -7.9670e-01 - val_negative_correlation_loss: -7.9125e-01 - lr: 0.0025 - 4s/epoch - 33ms/step\n",
            "Epoch 27/300\n",
            "128/128 - 4s - loss: -8.8328e-01 - negative_correlation_loss: -8.8334e-01 - val_loss: -7.9803e-01 - val_negative_correlation_loss: -7.9244e-01 - lr: 0.0012 - 4s/epoch - 33ms/step\n",
            "Epoch 28/300\n",
            "128/128 - 4s - loss: -8.8339e-01 - negative_correlation_loss: -8.8342e-01 - val_loss: -7.9748e-01 - val_negative_correlation_loss: -7.9196e-01 - lr: 0.0012 - 4s/epoch - 32ms/step\n",
            "Epoch 29/300\n",
            "128/128 - 4s - loss: -8.8350e-01 - negative_correlation_loss: -8.8344e-01 - val_loss: -7.9739e-01 - val_negative_correlation_loss: -7.9186e-01 - lr: 0.0012 - 4s/epoch - 33ms/step\n",
            "Epoch 30/300\n",
            "128/128 - 4s - loss: -8.8359e-01 - negative_correlation_loss: -8.8361e-01 - val_loss: -7.9781e-01 - val_negative_correlation_loss: -7.9230e-01 - lr: 0.0012 - 4s/epoch - 33ms/step\n",
            "Epoch 31/300\n",
            "\n",
            "Epoch 31: ReduceLROnPlateau reducing learning rate to 0.0006249999860301614.\n",
            "128/128 - 4s - loss: -8.8365e-01 - negative_correlation_loss: -8.8361e-01 - val_loss: -7.9745e-01 - val_negative_correlation_loss: -7.9191e-01 - lr: 0.0012 - 4s/epoch - 33ms/step\n",
            "Epoch 32/300\n",
            "128/128 - 4s - loss: -8.8387e-01 - negative_correlation_loss: -8.8385e-01 - val_loss: -7.9752e-01 - val_negative_correlation_loss: -7.9203e-01 - lr: 6.2500e-04 - 4s/epoch - 32ms/step\n",
            "Epoch 33/300\n",
            "128/128 - 4s - loss: -8.8403e-01 - negative_correlation_loss: -8.8406e-01 - val_loss: -7.9706e-01 - val_negative_correlation_loss: -7.9158e-01 - lr: 6.2500e-04 - 4s/epoch - 33ms/step\n",
            "Epoch 34/300\n",
            "128/128 - 4s - loss: -8.8404e-01 - negative_correlation_loss: -8.8391e-01 - val_loss: -7.9774e-01 - val_negative_correlation_loss: -7.9222e-01 - lr: 6.2500e-04 - 4s/epoch - 32ms/step\n",
            "Epoch 35/300\n",
            "\n",
            "Epoch 35: ReduceLROnPlateau reducing learning rate to 0.0003124999930150807.\n",
            "128/128 - 4s - loss: -8.8403e-01 - negative_correlation_loss: -8.8415e-01 - val_loss: -7.9726e-01 - val_negative_correlation_loss: -7.9180e-01 - lr: 6.2500e-04 - 4s/epoch - 32ms/step\n",
            "Epoch 36/300\n",
            "128/128 - 4s - loss: -8.8422e-01 - negative_correlation_loss: -8.8415e-01 - val_loss: -7.9755e-01 - val_negative_correlation_loss: -7.9205e-01 - lr: 3.1250e-04 - 4s/epoch - 33ms/step\n",
            "Epoch 37/300\n",
            "128/128 - 4s - loss: -8.8436e-01 - negative_correlation_loss: -8.8441e-01 - val_loss: -7.9775e-01 - val_negative_correlation_loss: -7.9221e-01 - lr: 3.1250e-04 - 4s/epoch - 33ms/step\n",
            "Epoch 38/300\n",
            "128/128 - 4s - loss: -8.8441e-01 - negative_correlation_loss: -8.8444e-01 - val_loss: -7.9774e-01 - val_negative_correlation_loss: -7.9222e-01 - lr: 3.1250e-04 - 4s/epoch - 33ms/step\n",
            "Epoch 39/300\n",
            "\n",
            "Epoch 39: ReduceLROnPlateau reducing learning rate to 0.00015624999650754035.\n",
            "128/128 - 4s - loss: -8.8430e-01 - negative_correlation_loss: -8.8433e-01 - val_loss: -7.9754e-01 - val_negative_correlation_loss: -7.9205e-01 - lr: 3.1250e-04 - 4s/epoch - 33ms/step\n"
          ]
        },
        {
          "metadata": {
            "tags": null
          },
          "name": "stderr",
          "output_type": "stream",
          "text": [
            "WARNING:absl:Found untraced functions such as dense_16_layer_call_fn, dense_16_layer_call_and_return_conditional_losses, dense_18_layer_call_fn, dense_18_layer_call_and_return_conditional_losses, dense_20_layer_call_fn while saving (showing 5 of 16). These functions will not be directly callable after loading.\n"
          ]
        },
        {
          "metadata": {
            "tags": null
          },
          "name": "stdout",
          "output_type": "stream",
          "text": [
            "101/101 [==============================] - 2s 14ms/step\n",
            "Fold 1: stopped after  38 epochs\n",
            "   corr TRAIN=  0.90433\n",
            "103/103 [==============================] - 1s 6ms/step\n",
            "   corr PUBLIC=  0.87855\n",
            "105/105 [==============================] - 1s 6ms/step\n",
            "   corr PRIVATE=  0.88541\n",
            "\u001b[32m\u001b[1mAverage  corr PUBLIC = 0.88584\u001b[0m\n",
            "\u001b[32m\u001b[1mAverage  corr PRIVATE= 0.88363\u001b[0m\n"
          ]
        },
        {
          "data": {
            "image/png": "[encoded data removed]",
            "text/plain": [
              "<Figure size 432x288 with 1 Axes>"
            ]
          },
          "metadata": {},
          "output_type": "display_data"
        },
        {
          "data": {
            "image/png": "[encoded data removed]",
            "text/plain": [
              "<Figure size 432x288 with 1 Axes>"
            ]
          },
          "metadata": {},
          "output_type": "display_data"
        }
      ]
    },
    {
      "cell_type": "code",
      "source": [
        "\n",
        "if SUBMIT:\n",
        "    test_pred_CNN = np.zeros((len(Xt), 140), dtype=np.float32)\n",
        "    for fold in range(N_FOLDS):\n",
        "        print(f\"Predicting with fold {fold}\")\n",
        "        model = load_model(f\"/kaggle/temp/model_CNN_{fold}\",\n",
        "                           custom_objects={'negative_correlation_loss': negative_correlation_loss})\n",
        "        \n",
        "#         Xt_imp_genes = Xt[:, -X0t.shape[1]:]\n",
        "#         Xt_dim_red = Xt[:, :-X0t.shape[1]]\n",
        "\n",
        "        \n",
        "        \n",
        "        test_pred_CNN += model.predict({'important_genes':X_test_imp_genes, 'dim_reduced_genes':X_test_dim_red, 'connect_genes':X_test_connect})\n",
        "    \n",
        "    test_pred = test_pred_CNN\n",
        "    \n",
        "    submission = pd.read_csv('../input/citeseq-keras-multiome-5x5/submission.csv',\n",
        "                             index_col='row_id', squeeze=True)\n",
        "    \n",
        "    #submission = pd.read_csv('../input/multiome-quickstart-w-sparse-m-tsvd-32/submission.csv',\n",
        "    #                         index_col='row_id', squeeze=True)\n",
        "    \n",
        "    submission.iloc[:len(test_pred.ravel())] = test_pred.ravel()\n",
        "#     submission = std(submission)\n",
        "    assert not submission.isna().any()\n",
        "    submission.to_csv('submission.csv')\n",
        "    display(submission)"
      ],
      "metadata": {
        "execution": {
          "iopub.status.busy": "2022-11-02T10:38:54.469284Z",
          "iopub.execute_input": "2022-11-02T10:38:54.469687Z",
          "iopub.status.idle": "2022-11-02T10:41:49.373501Z",
          "shell.execute_reply.started": "2022-11-02T10:38:54.469660Z",
          "shell.execute_reply": "2022-11-02T10:41:49.371898Z"
        },
        "trusted": true,
        "id": "VrmCh46lOCjh"
      },
      "execution_count": null,
      "outputs": []
    },
    {
      "cell_type": "code",
      "source": [],
      "metadata": {
        "id": "U3eSUugaOCjh"
      },
      "execution_count": null,
      "outputs": []
    }
  ]
}